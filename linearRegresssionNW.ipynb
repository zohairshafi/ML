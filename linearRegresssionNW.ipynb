{
 "cells": [
  {
   "cell_type": "code",
   "execution_count": 5,
   "metadata": {
    "collapsed": false
   },
   "outputs": [
    {
     "name": "stdout",
     "output_type": "stream",
     "text": [
      "Initial Cost...\n",
      "34705.8309981\n",
      "\n",
      "\n",
      "Running Gradient Descent...\n",
      "\n",
      "Initial Theta...\n",
      "[[ 0.4248354 ]\n",
      " [ 0.79618762]\n",
      " [ 0.49258517]\n",
      " [ 0.90966538]\n",
      " [ 0.00182868]\n",
      " [ 0.87610735]\n",
      " [ 0.35392756]\n",
      " [ 0.44041068]\n",
      " [ 0.60110626]\n",
      " [ 0.88067086]\n",
      " [ 0.32091737]\n",
      " [ 0.38600576]\n",
      " [ 0.19917101]\n",
      " [ 0.31705327]]\n",
      "\n",
      "\n",
      "Theta Obtained Is...\n",
      "[[ nan]\n",
      " [ nan]\n",
      " [ nan]\n",
      " [ nan]\n",
      " [ nan]\n",
      " [ nan]\n",
      " [ nan]\n",
      " [ nan]\n",
      " [ nan]\n",
      " [ nan]\n",
      " [ nan]\n",
      " [ nan]\n",
      " [ nan]\n",
      " [ nan]]\n",
      "\n",
      "\n",
      "House Price For Given Test Case...\n",
      "\n",
      "[ nan]\n"
     ]
    }
   ],
   "source": [
    "import numpy as np\n",
    "\n",
    "data = np.loadtxt('/Users/Zohair/Desktop/stanford_dl_ex-master/ex1/housing.data')\n",
    "\n",
    "\n",
    "(m, n) = np.shape(data) # m is number of examples, n is number of features\n",
    "\n",
    "temp = np.ones((m, 1)) \n",
    "data = np.hstack((temp, data)) # Add column of ones\n",
    "\n",
    "data = np.random.permutation(data) # Shuffle data\n",
    "\n",
    "(trainX, testX) = np.vsplit(data, (400,)) # Split Into Training & Test Set\n",
    "\n",
    "(trainX, trainY) = np.hsplit(data, (n,)) # Split into X and Y values\n",
    "(testX, testY) = np.hsplit(testX, (n,)) # Split into X and Y values\n",
    "\n",
    "(m, n) = np.shape(trainX)\n",
    "theta = np.random.random((n,1)) # Initialise Theta Vector\n",
    "\n",
    "def computeCost(X, y, theta):\n",
    "    \n",
    "    # Returns Cost Function J\n",
    "    \n",
    "    (m, n) = np.shape(X)\n",
    "    prediction = np.dot(X,theta)\n",
    "    \n",
    "    squareError = np.square(prediction - y)\n",
    "    J = 1/(2 * m) * np.sum(squareError)\n",
    "    \n",
    "    return J\n",
    "\n",
    "def gradientDescent(X, y, theta, alpha, numIterations):\n",
    "    \n",
    "    # Returns Minimised Theta Vector\n",
    "    \n",
    "    i = 0\n",
    "    while i < numIterations:\n",
    "        \n",
    "        prediction = np.dot(X, theta)\n",
    "        errorVector = prediction - y\n",
    "        thetaChange = alpha * (np.dot(np.transpose(X), errorVector)) # alpha *  (X' * errorVector)\n",
    "        test = theta - thetaChange\n",
    "        theta = theta - test       \n",
    "        i = i + 1\n",
    "        \n",
    "    return theta   \n",
    "\n",
    "print (\"Initial Cost...\")\n",
    "print (computeCost(trainX, trainY, theta))\n",
    "\n",
    "print (\"\\n\\nRunning Gradient Descent...\\n\")\n",
    "alpha = 0.01\n",
    "numIterations = 400\n",
    "print (\"Initial Theta...\")\n",
    "print (theta)\n",
    "print (\"\\n\")\n",
    "thetaMinimised = gradientDescent(trainX, trainY, theta, alpha, numIterations)\n",
    "print (\"Theta Obtained Is...\")\n",
    "print (thetaMinimised)\n",
    "print (\"\\n\")\n",
    "\n",
    "# print (\"Running Theta Obtained On Test Set...\\n\")\n",
    "testCase = np.array([1, 0.00632, 18.00, 2.310, 0, 0.5380, 6.5750, 65.20, 4.0900, 1, 296.0, 15.30, 396.9, 4.98])\n",
    "print (\"House Price For Given Test Case...\\n\")\n",
    "print (10000 * np.dot(testCase, thetaMinimised))\n",
    "\n",
    "\n",
    "\n"
   ]
  },
  {
   "cell_type": "code",
   "execution_count": null,
   "metadata": {
    "collapsed": false
   },
   "outputs": [],
   "source": [
    "\n",
    "\n"
   ]
  },
  {
   "cell_type": "code",
   "execution_count": null,
   "metadata": {
    "collapsed": true
   },
   "outputs": [],
   "source": []
  }
 ],
 "metadata": {
  "anaconda-cloud": {},
  "kernelspec": {
   "display_name": "Python [default]",
   "language": "python",
   "name": "python3"
  },
  "language_info": {
   "codemirror_mode": {
    "name": "ipython",
    "version": 3
   },
   "file_extension": ".py",
   "mimetype": "text/x-python",
   "name": "python",
   "nbconvert_exporter": "python",
   "pygments_lexer": "ipython3",
   "version": "3.5.2"
  }
 },
 "nbformat": 4,
 "nbformat_minor": 1
}
