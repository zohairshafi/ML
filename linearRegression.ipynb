{
 "cells": [
  {
   "cell_type": "code",
   "execution_count": 1,
   "metadata": {
    "collapsed": false
   },
   "outputs": [
    {
     "data": {
      "image/png": "[encoded data removed]",
      "text/plain": [
       "<matplotlib.figure.Figure at 0x1025ef6d8>"
      ]
     },
     "metadata": {},
     "output_type": "display_data"
    },
    {
     "name": "stdout",
     "output_type": "stream",
     "text": [
      "Initial Cost...\n",
      "32.0727338775\n",
      "\n",
      "\n",
      "Running Gradient Descent...\n",
      "\n",
      "Initial Theta...\n",
      "[[ 0.]\n",
      " [ 0.]]\n",
      "\n",
      "\n",
      "Theta Obtained Is...\n",
      "[[-3.63029144]\n",
      " [ 1.16636235]]\n",
      "\n",
      "\n",
      "House Price For Given Test Case...\n",
      "\n",
      "[ 45342.45012945]\n"
     ]
    }
   ],
   "source": [
    "import numpy as np\n",
    "import pylab as pl\n",
    "\n",
    "data = np.loadtxt('/Users/Zohair/Library/Mobile Documents/com~apple~CloudDocs/Education/Machine Learning/machine-learning-ex1/ex1/ex1data1.txt', delimiter=\",\")\n",
    "pl.scatter(data[:, 0], data[:, 1], marker='o', c='b')\n",
    "pl.title('Profits distribution')\n",
    "pl.xlabel('Population of City in 10,000s')\n",
    "pl.ylabel('Profit in $10,000s')\n",
    "pl.show()\n",
    "\n",
    "\n",
    "\n",
    "(m, n) = np.shape(data) # m is number of examples, n is number of features\n",
    "\n",
    "temp = np.ones((m, 1)) \n",
    "data = np.hstack((temp, data)) # Add column of ones\n",
    "\n",
    "data = np.random.permutation(data) # Shuffle data\n",
    "\n",
    "# (trainX, testX) = np.vsplit(data, (400,)) # Split Into Training & Test Set\n",
    "\n",
    "(X, y) = np.hsplit(data, (n,)) # Split into X and Y values\n",
    "# (testX, testY) = np.hsplit(testX, (14,)) #Split into X and Y values\n",
    "\n",
    "(m, n) = np.shape(X)\n",
    "theta = np.zeros((n,1)) # Initialise Theta Vector\n",
    "\n",
    "def computeCost(X, y, theta):\n",
    "    \n",
    "    # Returns Cost Function J\n",
    "    \n",
    "    (m, n) = np.shape(X)\n",
    "    prediction = np.dot(X,theta)\n",
    "    \n",
    "    squareError = np.square(prediction - y)\n",
    "    J = 1/(2 * m) * np.sum(squareError)\n",
    "    \n",
    "    return J\n",
    "\n",
    "def gradientDescent(X, y, theta, alpha, numIterations):\n",
    "    \n",
    "    # Returns Minimised Theta Vector\n",
    "    \n",
    "    i = 0\n",
    "    while i < numIterations:\n",
    "        \n",
    "        prediction = np.dot(X, theta)\n",
    "        errorVector = prediction - y\n",
    "        thetaChange = alpha * (1/m) * (np.dot(np.transpose(X), errorVector)) # alpha * 1/m * (X' * errorVector)\n",
    "        theta = theta - thetaChange\n",
    "        i = i + 1\n",
    "        \n",
    "    return theta   \n",
    "\n",
    "# Alternative Gradient Descent Function\n",
    "\n",
    "# def gradientDescent(x, y, theta, alpha, numIterations):\n",
    "#     xTrans = x.transpose()\n",
    "#     for i in range(0, numIterations):\n",
    "#         hypothesis = np.dot(x, theta)\n",
    "#         loss = hypothesis - y\n",
    "#         # avg cost per example (the 2 in 2*m doesn't really matter here.\n",
    "#         # But to be consistent with the gradient, I include it)\n",
    "#         cost = np.sum(loss ** 2) / (2 * m)\n",
    "#         print(\"Iteration %d | Cost: %f\" % (i, cost))\n",
    "#         # avg gradient per example\n",
    "#         gradient = np.dot(xTrans, loss) / m\n",
    "#         # update\n",
    "#         theta = theta - alpha * gradient\n",
    "#     return theta\n",
    "\n",
    "print (\"Initial Cost...\")\n",
    "print (computeCost(X, y, theta))\n",
    "\n",
    "print (\"\\n\\nRunning Gradient Descent...\\n\")\n",
    "alpha = 0.01\n",
    "numIterations = 1500\n",
    "print (\"Initial Theta...\")\n",
    "print (theta)\n",
    "print (\"\\n\")\n",
    "thetaMinimised = gradientDescent(X, y, theta, alpha, numIterations)\n",
    "print (\"Theta Obtained Is...\")\n",
    "print (thetaMinimised)\n",
    "print (\"\\n\")\n",
    "\n",
    "# print (\"Running Theta Obtained On Test Set...\\n\")\n",
    "testCase = np.array([1, 7])\n",
    "print (\"House Price For Given Test Case...\\n\")\n",
    "print (10000 * np.dot(testCase, thetaMinimised))\n",
    "\n",
    "\n"
   ]
  },
  {
   "cell_type": "code",
   "execution_count": null,
   "metadata": {
    "collapsed": true
   },
   "outputs": [],
   "source": []
  }
 ],
 "metadata": {
  "anaconda-cloud": {},
  "kernelspec": {
   "display_name": "Python [default]",
   "language": "python",
   "name": "python3"
  },
  "language_info": {
   "codemirror_mode": {
    "name": "ipython",
    "version": 3
   },
   "file_extension": ".py",
   "mimetype": "text/x-python",
   "name": "python",
   "nbconvert_exporter": "python",
   "pygments_lexer": "ipython3",
   "version": "3.5.2"
  }
 },
 "nbformat": 4,
 "nbformat_minor": 1
}
